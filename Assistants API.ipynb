{
 "cells": [
  {
   "cell_type": "markdown",
   "metadata": {
    "id": "cv868XZIpZlP"
   },
   "source": [
    "# **Assistants API**\n",
    "\n",
    "This lab will help you understand how to use the **Azure OpenAI Assistants API** (https://learn.microsoft.com/en-us/azure/ai-services/openai/assistants-reference), as well as the **code interpreter function** (https://learn.microsoft.com/en-us/azure/ai-services/openai/how-to/code-interpreter?tabs=python). Both will the last building blocks for your new AI-enabled database agent."
   ]
  },
  {
   "cell_type": "markdown",
   "metadata": {
    "nteract": {
     "transient": {
      "deleting": false
     }
    }
   },
   "source": [
    "Let's load the necessary environment variables"
   ]
  },
  {
   "cell_type": "code",
   "execution_count": 1,
   "metadata": {
    "gather": {
     "logged": 1718981830659
    },
    "jupyter": {
     "outputs_hidden": false,
     "source_hidden": false
    },
    "nteract": {
     "transient": {
      "deleting": false
     }
    }
   },
   "outputs": [
    {
     "data": {
      "text/plain": [
       "True"
      ]
     },
     "execution_count": 1,
     "metadata": {},
     "output_type": "execute_result"
    }
   ],
   "source": [
    "import os\n",
    "import json\n",
    "import requests\n",
    "from dotenv import load_dotenv\n",
    "load_dotenv(\".env\")"
   ]
  },
  {
   "cell_type": "markdown",
   "metadata": {
    "nteract": {
     "transient": {
      "deleting": false
     }
    }
   },
   "source": [
    "\n",
    "Before you start, the sequence for the Assistants API includes these steps:\n",
    "\n",
    "1.   **Create an Assistant:** Define its custom instructions and pick a model. Optionally, add files and enable tools like Code Interpreter, Retrieval, and Function calling.\n",
    "2.   **Create a Thread:** A Thread represents a conversation between a user and one or many Assistants. Create a Thread when a user starts a conversation with your Assistant.\n",
    "3.   **Add Messages to the Thread:** Messages from users or applications are added as Message objects to the Thread.\n",
    "Messages can contain both text and files.\n",
    "There’s no limit to the number of Messages you can add to Threads; context is truncated to fit the model’s context window.\n",
    "4.   **Run the Assistant on the Thread:** Generate a response by calling the model and tools associated with the Assistant. Responses are added to the Thread as assistant Messages.\n",
    "\n"
   ]
  },
  {
   "cell_type": "code",
   "execution_count": 2,
   "metadata": {
    "gather": {
     "logged": 1718981834413
    }
   },
   "outputs": [],
   "source": [
    "from openai import AzureOpenAI\n",
    "import json\n",
    "import os\n",
    "import glob\n",
    "should_cleanup: bool = True\n",
    "\n",
    "\n",
    "client = AzureOpenAI(\n",
    "    api_key=os.getenv(\"AZURE_OPENAI_API_KEY\"),\n",
    "    api_version=os.getenv(\"AZURE_OPENAI_API_VERSION\"),\n",
    "    azure_endpoint = os.getenv(\"AZURE_OPENAI_ENDPOINT\")\n",
    "    )"
   ]
  },
  {
   "cell_type": "markdown",
   "metadata": {},
   "source": [
    "# Using File Search with PDF files\n",
    "\n",
    "Let's create a new assistant with file search and code interpreter\n",
    "\n"
   ]
  },
  {
   "cell_type": "code",
   "execution_count": 3,
   "metadata": {
    "gather": {
     "logged": 1718978776453
    },
    "jupyter": {
     "outputs_hidden": false,
     "source_hidden": false
    },
    "nteract": {
     "transient": {
      "deleting": false
     }
    }
   },
   "outputs": [],
   "source": [
    "\n",
    "assistant = client.beta.assistants.create(\n",
    "  name=\"Insurance Submission Extractor\",\n",
    "  instructions=\"You are an AI assistant who is an expert in extracting data from insurance submissions which includes PDF and excel files. You are expected to extract the following information: 1. Named Insured 2. DBA Name 3. Coverage or Peril or Exposure  4. Policy InceptionDate 5. Policy ExpirationDate 6. StreetAddress, City, State, Zip, County details of the Property 7. TotalInsuredValue, OccupancyCode of the property/properties\",\n",
    "  model=os.getenv(\"GPT4_DEPLOYMENT_NAME\"),\n",
    "  tools=[{\"type\": \"file_search\"},{\"type\":\"code_interpreter\"}]\n",
    ")"
   ]
  },
  {
   "cell_type": "markdown",
   "metadata": {
    "nteract": {
     "transient": {
      "deleting": false
     }
    }
   },
   "source": [
    "Upload the PDF files to the vector store and attach it to the file search tool in assistant"
   ]
  },
  {
   "cell_type": "code",
   "execution_count": 4,
   "metadata": {
    "gather": {
     "logged": 1718978793796
    }
   },
   "outputs": [
    {
     "name": "stdout",
     "output_type": "stream",
     "text": [
      "completed\n",
      "FileCounts(cancelled=0, completed=2, failed=0, in_progress=0, total=2)\n"
     ]
    }
   ],
   "source": [
    "vector_store = client.beta.vector_stores.create(name=\"Submission Documents Vector Store\")\n",
    " \n",
    "# Ready the files for upload to OpenAI\n",
    "file_paths = glob.glob(\"data/*.pdf\") + glob.glob(\"data/*.docx\")\n",
    "file_streams = [open(path, \"rb\") for path in file_paths]\n",
    " \n",
    "# Use the upload and poll SDK helper to upload the files, add them to the vector store,\n",
    "# and poll the status of the file batch for completion.\n",
    "file_batch = client.beta.vector_stores.file_batches.upload_and_poll(\n",
    "  vector_store_id=vector_store.id, files=file_streams\n",
    ")\n",
    " \n",
    "# You can print the status and the file counts of the batch to see the result of this operation.\n",
    "print(file_batch.status)\n",
    "print(file_batch.file_counts)\n",
    "\n",
    "assistant = client.beta.assistants.update(\n",
    "  assistant_id=assistant.id,\n",
    "  tool_resources={\"file_search\": {\"vector_store_ids\": [vector_store.id]}},\n",
    ")"
   ]
  },
  {
   "cell_type": "markdown",
   "metadata": {},
   "source": [
    "Create a thread using the vector store file and publish the output"
   ]
  },
  {
   "cell_type": "code",
   "execution_count": 5,
   "metadata": {
    "gather": {
     "logged": 1718978798790
    },
    "jupyter": {
     "outputs_hidden": false,
     "source_hidden": false
    },
    "nteract": {
     "transient": {
      "deleting": false
     }
    }
   },
   "outputs": [],
   "source": [
    "thread = client.beta.threads.create()\n",
    "message = client.beta.threads.messages.create(\n",
    "    thread_id=thread.id,\n",
    "    role=\"user\",\n",
    "    content=\"Extract the following attributes from the submission: NamedInsured, DBA Name, RenewalofAccountID, Coverage or Peril or Exposure, InceptionDate, ExpirationDate\"\n",
    ")\n",
    "run = client.beta.threads.runs.create(\n",
    "  thread_id=thread.id,\n",
    "  assistant_id=assistant.id,\n",
    "  #instructions=\"New instructions\" #You can optionally provide new instructions but these will override the default instructions\n",
    ")\n"
   ]
  },
  {
   "cell_type": "code",
   "execution_count": 6,
   "metadata": {},
   "outputs": [
    {
     "name": "stdout",
     "output_type": "stream",
     "text": [
      "Elapsed time: 0 minutes 5 seconds\n",
      "Status: completed\n"
     ]
    }
   ],
   "source": [
    "import time\n",
    "from IPython.display import clear_output\n",
    "\n",
    "status = run.status\n",
    "start_time = time.time()\n",
    "while status not in [\"completed\", \"cancelled\", \"expired\", \"failed\"]:\n",
    "    time.sleep(5)\n",
    "    run = client.beta.threads.runs.retrieve(thread_id=thread.id,run_id=run.id)\n",
    "    print(\"Elapsed time: {} minutes {} seconds\".format(int((time.time() - start_time) // 60), int((time.time() - start_time) % 60)))\n",
    "    status = run.status\n",
    "    print(f'Status: {status}')\n",
    "    clear_output(wait=True)\n"
   ]
  },
  {
   "cell_type": "code",
   "execution_count": 7,
   "metadata": {},
   "outputs": [
    {
     "name": "stdout",
     "output_type": "stream",
     "text": [
      "{\n",
      "  \"data\": [\n",
      "    {\n",
      "      \"id\": \"msg_Xmc0EcUAurKuiRMUndBfHjrI\",\n",
      "      \"assistant_id\": \"asst_VULe68D0RjaG5BVyDSQoEwzw\",\n",
      "      \"attachments\": [],\n",
      "      \"completed_at\": null,\n",
      "      \"content\": [\n",
      "        {\n",
      "          \"text\": {\n",
      "            \"annotations\": [\n",
      "              {\n",
      "                \"end_index\": 548,\n",
      "                \"file_citation\": {\n",
      "                  \"file_id\": \"assistant-cnsD1Ra4KCxZ0iNIXNRd99lT\"\n",
      "                },\n",
      "                \"start_index\": 536,\n",
      "                \"text\": \"【4:0†source】\",\n",
      "                \"type\": \"file_citation\"\n",
      "              },\n",
      "              {\n",
      "                \"end_index\": 860,\n",
      "                \"file_citation\": {\n",
      "                  \"file_id\": \"assistant-cnsD1Ra4KCxZ0iNIXNRd99lT\"\n",
      "                },\n",
      "                \"start_index\": 848,\n",
      "                \"text\": \"【4:0†source】\",\n",
      "                \"type\": \"file_citation\"\n",
      "              },\n",
      "              {\n",
      "                \"end_index\": 914,\n",
      "                \"file_citation\": {\n",
      "                  \"file_id\": \"assistant-cnsD1Ra4KCxZ0iNIXNRd99lT\"\n",
      "                },\n",
      "                \"start_index\": 902,\n",
      "                \"text\": \"【4:0†source】\",\n",
      "                \"type\": \"file_citation\"\n",
      "              },\n",
      "              {\n",
      "                \"end_index\": 969,\n",
      "                \"file_citation\": {\n",
      "                  \"file_id\": \"assistant-cnsD1Ra4KCxZ0iNIXNRd99lT\"\n",
      "                },\n",
      "                \"start_index\": 957,\n",
      "                \"text\": \"【4:0†source】\",\n",
      "                \"type\": \"file_citation\"\n",
      "              }\n",
      "            ],\n",
      "            \"value\": \"Here is the extracted information from the submission documents:\\n\\n1. **Named Insured**: Loftin group LLC and any subsidiary associated allied or affiliated company corporation firm organization partnership Joint Venture or individual whether wholly or partially owned or controlled by the Insured where the Insured maintains an interest or where the Insured is required to provide insurance as now exist or are hereafter constituted or acquired and any other party in interest that is required by contract or other agreement to be named【4:0†source】.\\n\\n2. **DBA Name**: Not explicitly mentioned in the extracted text.\\n\\n3. **Renewal of Account ID**: Not explicitly mentioned in the extracted text.\\n\\n4. **Coverage or Peril or Exposure**: Coverage for \\\"All Risk\\\" of physical loss or damage excluding Earthquake Flood and Comprehensive Boiler & Machinery【4:0†source】.\\n\\n5. **Inception Date**: November 1, 2024【4:0†source】.\\n\\n6. **Expiration Date**: November 1, 2025【4:0†source】.\\n\\nPlease let me know if you need further details or any other information extracted from the documents.\"\n",
      "          },\n",
      "          \"type\": \"text\"\n",
      "        }\n",
      "      ],\n",
      "      \"created_at\": 1733414832,\n",
      "      \"incomplete_at\": null,\n",
      "      \"incomplete_details\": null,\n",
      "      \"metadata\": {},\n",
      "      \"object\": \"thread.message\",\n",
      "      \"role\": \"assistant\",\n",
      "      \"run_id\": \"run_MbfXIhpCT6EK6p7tNGr6dBPI\",\n",
      "      \"status\": null,\n",
      "      \"thread_id\": \"thread_HDwvw7YuA2RBkpjaueLPYdV5\"\n",
      "    },\n",
      "    {\n",
      "      \"id\": \"msg_Rl3iLYTHltG03zD59oiFcnvZ\",\n",
      "      \"assistant_id\": null,\n",
      "      \"attachments\": [],\n",
      "      \"completed_at\": null,\n",
      "      \"content\": [\n",
      "        {\n",
      "          \"text\": {\n",
      "            \"annotations\": [],\n",
      "            \"value\": \"Extract the following attributes from the submission: NamedInsured, DBA Name, RenewalofAccountID, Coverage or Peril or Exposure, InceptionDate, ExpirationDate\"\n",
      "          },\n",
      "          \"type\": \"text\"\n",
      "        }\n",
      "      ],\n",
      "      \"created_at\": 1733414829,\n",
      "      \"incomplete_at\": null,\n",
      "      \"incomplete_details\": null,\n",
      "      \"metadata\": {},\n",
      "      \"object\": \"thread.message\",\n",
      "      \"role\": \"user\",\n",
      "      \"run_id\": null,\n",
      "      \"status\": null,\n",
      "      \"thread_id\": \"thread_HDwvw7YuA2RBkpjaueLPYdV5\"\n",
      "    }\n",
      "  ],\n",
      "  \"object\": \"list\",\n",
      "  \"first_id\": \"msg_Xmc0EcUAurKuiRMUndBfHjrI\",\n",
      "  \"last_id\": \"msg_Rl3iLYTHltG03zD59oiFcnvZ\",\n",
      "  \"has_more\": false\n",
      "}\n"
     ]
    }
   ],
   "source": [
    "messages = client.beta.threads.messages.list(\n",
    "  thread_id=thread.id\n",
    ")\n",
    "\n",
    "print(messages.model_dump_json(indent=2))"
   ]
  },
  {
   "cell_type": "code",
   "execution_count": 8,
   "metadata": {},
   "outputs": [
    {
     "name": "stdout",
     "output_type": "stream",
     "text": [
      "Data written to submission.txt\n"
     ]
    }
   ],
   "source": [
    "data = json.loads(messages.model_dump_json(indent=2))  # Load JSON data into a Python object\n",
    "output_data = data['data'][0]['content'][0]['text']['value']  # Adjusted to access the correct content\n",
    "\n",
    "with open(\"data/submission.txt\", \"w\") as file:\n",
    "\tfile.write(json.dumps(output_data, indent=2))  # Convert list to JSON string\n",
    "\n",
    "print(\"Data written to submission.txt\")"
   ]
  },
  {
   "cell_type": "markdown",
   "metadata": {
    "nteract": {
     "transient": {
      "deleting": false
     }
    }
   },
   "source": [
    "# Using Code Interpreter with a CSV file"
   ]
  },
  {
   "cell_type": "code",
   "execution_count": 9,
   "metadata": {
    "gather": {
     "logged": 1718979944084
    },
    "jupyter": {
     "outputs_hidden": false,
     "source_hidden": false
    },
    "nteract": {
     "transient": {
      "deleting": false
     }
    }
   },
   "outputs": [],
   "source": [
    "# Select the first .xlsx file from the list\n",
    "xlsx_file_path = glob.glob(\"data/*.xlsx\")[0]\n",
    "\n",
    "message_file = client.files.create(\n",
    "  file=open(xlsx_file_path, \"rb\"), purpose=\"assistants\"\n",
    ")\n",
    "\n",
    "# Create a thread and attach the file to the message\n",
    "thread = client.beta.threads.create(\n",
    "  messages=[\n",
    "    {\n",
    "      \"role\": \"user\",\n",
    "      \"content\": \"Extract the following property attributes from the SOV and provide the unique rows of the attributes : StreetAddress, City, State, Zip, County\",\n",
    "      # Attach the new file to the message.\n",
    "      \"attachments\": [\n",
    "        { \"file_id\": message_file.id, \"tools\": [{\"type\": \"code_interpreter\"}] }\n",
    "      ],\n",
    "    }\n",
    "  ]\n",
    ")\n",
    "run = client.beta.threads.runs.create(\n",
    "  thread_id=thread.id,\n",
    "  assistant_id=assistant.id,\n",
    "  #instructions=\"New instructions\" #You can optionally provide new instructions but these will override the default instructions\n",
    ")"
   ]
  },
  {
   "cell_type": "markdown",
   "metadata": {},
   "source": [
    "Verify the thread status and get final output of the message"
   ]
  },
  {
   "cell_type": "code",
   "execution_count": 10,
   "metadata": {
    "gather": {
     "logged": 1718979957550
    },
    "jupyter": {
     "outputs_hidden": true,
     "source_hidden": false
    },
    "nteract": {
     "transient": {
      "deleting": false
     }
    }
   },
   "outputs": [
    {
     "name": "stdout",
     "output_type": "stream",
     "text": [
      "Elapsed time: 0 minutes 26 seconds\n",
      "Status: completed\n"
     ]
    }
   ],
   "source": [
    "import time\n",
    "from IPython.display import clear_output\n",
    "\n",
    "status = run.status\n",
    "start_time = time.time()\n",
    "while status not in [\"completed\", \"cancelled\", \"expired\", \"failed\"]:\n",
    "    time.sleep(5)\n",
    "    run = client.beta.threads.runs.retrieve(thread_id=thread.id,run_id=run.id)\n",
    "    print(\"Elapsed time: {} minutes {} seconds\".format(int((time.time() - start_time) // 60), int((time.time() - start_time) % 60)))\n",
    "    status = run.status\n",
    "    print(f'Status: {status}')\n",
    "    clear_output(wait=True)\n"
   ]
  },
  {
   "cell_type": "code",
   "execution_count": 11,
   "metadata": {},
   "outputs": [
    {
     "name": "stdout",
     "output_type": "stream",
     "text": [
      "{\n",
      "  \"data\": [\n",
      "    {\n",
      "      \"id\": \"msg_099ktnS232lVnb3rfn5zJsVy\",\n",
      "      \"assistant_id\": \"asst_VULe68D0RjaG5BVyDSQoEwzw\",\n",
      "      \"attachments\": [],\n",
      "      \"completed_at\": null,\n",
      "      \"content\": [\n",
      "        {\n",
      "          \"text\": {\n",
      "            \"annotations\": [],\n",
      "            \"value\": \"Here are the unique rows of the required property attributes extracted from the file:\\n\\n| Street Address                   | City         | State Code | Zip   | County |\\n|----------------------------------|--------------|------------|-------|--------|\\n| *Street Address                  | *City        | *State Code| *Zip  | County |\\n| 7700 Downman Road                | New Orleans  | LA         | 70126 | NaN    |\\n| 6235 Chef Menteur Hwy. front     | New Orleans  | LA         | 70126 | NaN    |\\n| 6235 Chef Menteur Hwy. rear      | New Orleans  | LA         | 70126 | NaN    |\\n| 3300 Preston Place A             | New Orleans  | LA         | 70131 | NaN    |\\n| C3300 Preston Place B            | New Orleans  | LA         | 70131 | NaN    |\\n| 3300 Preston Place D             | New Orleans  | LA         | 70131 | NaN    |\\n| 3300 Preston Place F             | New Orleans  | LA         | 70131 | NaN    |\\n| 3300 Preston Place B             | New Orleans  | LA         | 70131 | NaN    |\\n| 3300 Preston Place C             | New Orleans  | LA         | 70131 | NaN    |\\n| 3300 Preston Place office        | New Orleans  | LA         | 70131 | NaN    |\\n| 6000 Chef Menteur Hwy            | New Orleans  | LA         | 70126 | NaN    |\\n| 6002 Chef Menteur Hwy            | New Orleans  | LA         | 70126 | NaN    |\\n| 6004 Chef Menteur Hwy            | New Orleans  | LA         | 70126 | NaN    |\\n\\nNote: A few rows might contain placeholder values like \\\"*Street Address\\\", \\\"*City\\\" etc., which seem to be headers themselves, and some rows might have missing county values.\"\n",
      "          },\n",
      "          \"type\": \"text\"\n",
      "        }\n",
      "      ],\n",
      "      \"created_at\": 1733414859,\n",
      "      \"incomplete_at\": null,\n",
      "      \"incomplete_details\": null,\n",
      "      \"metadata\": {},\n",
      "      \"object\": \"thread.message\",\n",
      "      \"role\": \"assistant\",\n",
      "      \"run_id\": \"run_L8Z0JPKKarV3U4sBVSam2wfr\",\n",
      "      \"status\": null,\n",
      "      \"thread_id\": \"thread_BTlAcFIKcvq9TobuJMAHr7u4\"\n",
      "    },\n",
      "    {\n",
      "      \"id\": \"msg_b6qmUNO4U19aC8jkCSO64Txl\",\n",
      "      \"assistant_id\": null,\n",
      "      \"attachments\": [\n",
      "        {\n",
      "          \"file_id\": \"assistant-MwTPkPlnIbyMbnelYvEbvEn4\",\n",
      "          \"tools\": [\n",
      "            {\n",
      "              \"type\": \"code_interpreter\"\n",
      "            }\n",
      "          ]\n",
      "        }\n",
      "      ],\n",
      "      \"completed_at\": null,\n",
      "      \"content\": [\n",
      "        {\n",
      "          \"text\": {\n",
      "            \"annotations\": [],\n",
      "            \"value\": \"Extract the following property attributes from the SOV and provide the unique rows of the attributes : StreetAddress, City, State, Zip, County\"\n",
      "          },\n",
      "          \"type\": \"text\"\n",
      "        }\n",
      "      ],\n",
      "      \"created_at\": 1733414838,\n",
      "      \"incomplete_at\": null,\n",
      "      \"incomplete_details\": null,\n",
      "      \"metadata\": {},\n",
      "      \"object\": \"thread.message\",\n",
      "      \"role\": \"user\",\n",
      "      \"run_id\": null,\n",
      "      \"status\": null,\n",
      "      \"thread_id\": \"thread_BTlAcFIKcvq9TobuJMAHr7u4\"\n",
      "    }\n",
      "  ],\n",
      "  \"object\": \"list\",\n",
      "  \"first_id\": \"msg_099ktnS232lVnb3rfn5zJsVy\",\n",
      "  \"last_id\": \"msg_b6qmUNO4U19aC8jkCSO64Txl\",\n",
      "  \"has_more\": false\n",
      "}\n"
     ]
    }
   ],
   "source": [
    "messages = client.beta.threads.messages.list(\n",
    "  thread_id=thread.id\n",
    ")\n",
    "\n",
    "print(messages.model_dump_json(indent=2))"
   ]
  },
  {
   "cell_type": "code",
   "execution_count": 12,
   "metadata": {},
   "outputs": [
    {
     "name": "stdout",
     "output_type": "stream",
     "text": [
      "Data written to submission.txt\n"
     ]
    }
   ],
   "source": [
    "data = json.loads(messages.model_dump_json(indent=2))  # Load JSON data into a Python object\n",
    "output_data = data['data'][0]['content'][0]['text']['value']  # Adjusted to access the correct content\n",
    "\n",
    "with open(\"data/submission.txt\", \"a\") as file:\n",
    "\tfile.write(\"\\n\\n\" + json.dumps(output_data, indent=2) + \"\\n\\n\")  # Convert list to JSON string\n",
    "\n",
    "print(\"Data written to submission.txt\")"
   ]
  },
  {
   "cell_type": "markdown",
   "metadata": {},
   "source": [
    "Create a new thread, ask the second question and get the output"
   ]
  },
  {
   "cell_type": "code",
   "execution_count": 13,
   "metadata": {},
   "outputs": [],
   "source": [
    "# # Select the first .xlsx file from the list\n",
    "# xlsx_file_path = glob.glob(\"data/*.xlsx\")[0]\n",
    "\n",
    "# message_file = client.files.create(\n",
    "#   file=open(xlsx_file_path, \"rb\"), purpose=\"assistants\"\n",
    "# )\n",
    "\n",
    "# # Create a thread and attach the file to the message\n",
    "# thread = client.beta.threads.create(\n",
    "#   messages=[\n",
    "#     {\n",
    "#       \"role\": \"user\",\n",
    "#       \"content\": \"Extract the following attributes from the submission: TotalInsuredValue, OccupancyCode\",\n",
    "#       # Attach the new file to the message.\n",
    "#       \"attachments\": [\n",
    "#         { \"file_id\": message_file.id, \"tools\": [{\"type\": \"code_interpreter\"}] }\n",
    "#       ],\n",
    "#     }\n",
    "#   ]\n",
    "# )\n",
    "\n",
    "# Add a new user question to the thread\n",
    "message = client.beta.threads.messages.create(\n",
    "    thread_id=thread.id,\n",
    "    role=\"user\",\n",
    "    content=\"Extract the following attributes from the submission: TotalInsuredValue, OccupancyCode\"\n",
    ")\n",
    "\n",
    "run = client.beta.threads.runs.create(\n",
    "  thread_id=thread.id,\n",
    "  assistant_id=assistant.id,\n",
    "  #instructions=\"New instructions\" #You can optionally provide new instructions but these will override the default instructions\n",
    ")"
   ]
  },
  {
   "cell_type": "code",
   "execution_count": 14,
   "metadata": {},
   "outputs": [
    {
     "name": "stdout",
     "output_type": "stream",
     "text": [
      "Elapsed time: 0 minutes 11 seconds\n",
      "Status: completed\n"
     ]
    }
   ],
   "source": [
    "status = run.status\n",
    "start_time = time.time()\n",
    "while status not in [\"completed\", \"cancelled\", \"expired\", \"failed\"]:\n",
    "    time.sleep(5)\n",
    "    run = client.beta.threads.runs.retrieve(thread_id=thread.id,run_id=run.id)\n",
    "    print(\"Elapsed time: {} minutes {} seconds\".format(int((time.time() - start_time) // 60), int((time.time() - start_time) % 60)))\n",
    "    status = run.status\n",
    "    print(f'Status: {status}')\n",
    "    clear_output(wait=True)\n"
   ]
  },
  {
   "cell_type": "code",
   "execution_count": 15,
   "metadata": {},
   "outputs": [
    {
     "name": "stdout",
     "output_type": "stream",
     "text": [
      "{\n",
      "  \"data\": [\n",
      "    {\n",
      "      \"id\": \"msg_97RUJcjtm0VJQcXxHLvrX1Pr\",\n",
      "      \"assistant_id\": \"asst_VULe68D0RjaG5BVyDSQoEwzw\",\n",
      "      \"attachments\": [],\n",
      "      \"completed_at\": null,\n",
      "      \"content\": [\n",
      "        {\n",
      "          \"text\": {\n",
      "            \"annotations\": [],\n",
      "            \"value\": \"It appears \\\"Total Insured Value\\\" and \\\"Occupancy Code\\\" columns are not explicitly named and possibly hidden under other columns or merged cells. Given the lack of clear information, it is challenging to pinpoint these columns directly.\\n\\nWould you like to refine your search or provide additional details that can help identify the relevant columns? Alternatively, we can review another sheet from the Excel file, such as \\\"Building Updates Etc.\\\", to see if they contain the necessary attributes.\"\n",
      "          },\n",
      "          \"type\": \"text\"\n",
      "        }\n",
      "      ],\n",
      "      \"created_at\": 1733414875,\n",
      "      \"incomplete_at\": null,\n",
      "      \"incomplete_details\": null,\n",
      "      \"metadata\": {},\n",
      "      \"object\": \"thread.message\",\n",
      "      \"role\": \"assistant\",\n",
      "      \"run_id\": \"run_x2vFNLmVmRm6S0tRBksKntKQ\",\n",
      "      \"status\": null,\n",
      "      \"thread_id\": \"thread_BTlAcFIKcvq9TobuJMAHr7u4\"\n",
      "    },\n",
      "    {\n",
      "      \"id\": \"msg_uZwClHkK5QvziqWfQpwe7HTn\",\n",
      "      \"assistant_id\": null,\n",
      "      \"attachments\": [],\n",
      "      \"completed_at\": null,\n",
      "      \"content\": [\n",
      "        {\n",
      "          \"text\": {\n",
      "            \"annotations\": [],\n",
      "            \"value\": \"Extract the following attributes from the submission: TotalInsuredValue, OccupancyCode\"\n",
      "          },\n",
      "          \"type\": \"text\"\n",
      "        }\n",
      "      ],\n",
      "      \"created_at\": 1733414866,\n",
      "      \"incomplete_at\": null,\n",
      "      \"incomplete_details\": null,\n",
      "      \"metadata\": {},\n",
      "      \"object\": \"thread.message\",\n",
      "      \"role\": \"user\",\n",
      "      \"run_id\": null,\n",
      "      \"status\": null,\n",
      "      \"thread_id\": \"thread_BTlAcFIKcvq9TobuJMAHr7u4\"\n",
      "    },\n",
      "    {\n",
      "      \"id\": \"msg_099ktnS232lVnb3rfn5zJsVy\",\n",
      "      \"assistant_id\": \"asst_VULe68D0RjaG5BVyDSQoEwzw\",\n",
      "      \"attachments\": [],\n",
      "      \"completed_at\": null,\n",
      "      \"content\": [\n",
      "        {\n",
      "          \"text\": {\n",
      "            \"annotations\": [],\n",
      "            \"value\": \"Here are the unique rows of the required property attributes extracted from the file:\\n\\n| Street Address                   | City         | State Code | Zip   | County |\\n|----------------------------------|--------------|------------|-------|--------|\\n| *Street Address                  | *City        | *State Code| *Zip  | County |\\n| 7700 Downman Road                | New Orleans  | LA         | 70126 | NaN    |\\n| 6235 Chef Menteur Hwy. front     | New Orleans  | LA         | 70126 | NaN    |\\n| 6235 Chef Menteur Hwy. rear      | New Orleans  | LA         | 70126 | NaN    |\\n| 3300 Preston Place A             | New Orleans  | LA         | 70131 | NaN    |\\n| C3300 Preston Place B            | New Orleans  | LA         | 70131 | NaN    |\\n| 3300 Preston Place D             | New Orleans  | LA         | 70131 | NaN    |\\n| 3300 Preston Place F             | New Orleans  | LA         | 70131 | NaN    |\\n| 3300 Preston Place B             | New Orleans  | LA         | 70131 | NaN    |\\n| 3300 Preston Place C             | New Orleans  | LA         | 70131 | NaN    |\\n| 3300 Preston Place office        | New Orleans  | LA         | 70131 | NaN    |\\n| 6000 Chef Menteur Hwy            | New Orleans  | LA         | 70126 | NaN    |\\n| 6002 Chef Menteur Hwy            | New Orleans  | LA         | 70126 | NaN    |\\n| 6004 Chef Menteur Hwy            | New Orleans  | LA         | 70126 | NaN    |\\n\\nNote: A few rows might contain placeholder values like \\\"*Street Address\\\", \\\"*City\\\" etc., which seem to be headers themselves, and some rows might have missing county values.\"\n",
      "          },\n",
      "          \"type\": \"text\"\n",
      "        }\n",
      "      ],\n",
      "      \"created_at\": 1733414859,\n",
      "      \"incomplete_at\": null,\n",
      "      \"incomplete_details\": null,\n",
      "      \"metadata\": {},\n",
      "      \"object\": \"thread.message\",\n",
      "      \"role\": \"assistant\",\n",
      "      \"run_id\": \"run_L8Z0JPKKarV3U4sBVSam2wfr\",\n",
      "      \"status\": null,\n",
      "      \"thread_id\": \"thread_BTlAcFIKcvq9TobuJMAHr7u4\"\n",
      "    },\n",
      "    {\n",
      "      \"id\": \"msg_b6qmUNO4U19aC8jkCSO64Txl\",\n",
      "      \"assistant_id\": null,\n",
      "      \"attachments\": [\n",
      "        {\n",
      "          \"file_id\": \"assistant-MwTPkPlnIbyMbnelYvEbvEn4\",\n",
      "          \"tools\": [\n",
      "            {\n",
      "              \"type\": \"code_interpreter\"\n",
      "            }\n",
      "          ]\n",
      "        }\n",
      "      ],\n",
      "      \"completed_at\": null,\n",
      "      \"content\": [\n",
      "        {\n",
      "          \"text\": {\n",
      "            \"annotations\": [],\n",
      "            \"value\": \"Extract the following property attributes from the SOV and provide the unique rows of the attributes : StreetAddress, City, State, Zip, County\"\n",
      "          },\n",
      "          \"type\": \"text\"\n",
      "        }\n",
      "      ],\n",
      "      \"created_at\": 1733414838,\n",
      "      \"incomplete_at\": null,\n",
      "      \"incomplete_details\": null,\n",
      "      \"metadata\": {},\n",
      "      \"object\": \"thread.message\",\n",
      "      \"role\": \"user\",\n",
      "      \"run_id\": null,\n",
      "      \"status\": null,\n",
      "      \"thread_id\": \"thread_BTlAcFIKcvq9TobuJMAHr7u4\"\n",
      "    }\n",
      "  ],\n",
      "  \"object\": \"list\",\n",
      "  \"first_id\": \"msg_97RUJcjtm0VJQcXxHLvrX1Pr\",\n",
      "  \"last_id\": \"msg_b6qmUNO4U19aC8jkCSO64Txl\",\n",
      "  \"has_more\": false\n",
      "}\n"
     ]
    }
   ],
   "source": [
    "messages = client.beta.threads.messages.list(\n",
    "  thread_id=thread.id\n",
    ")\n",
    "\n",
    "print(messages.model_dump_json(indent=2))"
   ]
  },
  {
   "cell_type": "code",
   "execution_count": 16,
   "metadata": {},
   "outputs": [
    {
     "name": "stdout",
     "output_type": "stream",
     "text": [
      "Data written to submission.txt\n"
     ]
    }
   ],
   "source": [
    "data = json.loads(messages.model_dump_json(indent=2))  # Load JSON data into a Python object\n",
    "output_data = data['data'][0]['content'][0]['text']['value']  # Adjusted to access the correct content\n",
    "\n",
    "with open(\"data/submission.txt\", \"a\") as file:\n",
    "\tfile.write(\"\\n\\n\" + json.dumps(output_data, indent=2) + \"\\n\\n\")  # Convert list to JSON string\n",
    "\n",
    "print(\"Data written to submission.txt\")"
   ]
  },
  {
   "cell_type": "markdown",
   "metadata": {},
   "source": [
    "You can also check the code that was executed by the code interpreter by running the following code:\n"
   ]
  },
  {
   "cell_type": "code",
   "execution_count": 17,
   "metadata": {},
   "outputs": [
    {
     "name": "stdout",
     "output_type": "stream",
     "text": [
      "{\n",
      "  \"data\": [\n",
      "    {\n",
      "      \"id\": \"step_oL0cRxAsiXJMMlVfSBJLv9D0\",\n",
      "      \"assistant_id\": \"asst_VULe68D0RjaG5BVyDSQoEwzw\",\n",
      "      \"cancelled_at\": null,\n",
      "      \"completed_at\": 1733414876,\n",
      "      \"created_at\": 1733414875,\n",
      "      \"expired_at\": null,\n",
      "      \"failed_at\": null,\n",
      "      \"last_error\": null,\n",
      "      \"metadata\": null,\n",
      "      \"object\": \"thread.run.step\",\n",
      "      \"run_id\": \"run_x2vFNLmVmRm6S0tRBksKntKQ\",\n",
      "      \"status\": \"completed\",\n",
      "      \"step_details\": {\n",
      "        \"message_creation\": {\n",
      "          \"message_id\": \"msg_97RUJcjtm0VJQcXxHLvrX1Pr\"\n",
      "        },\n",
      "        \"type\": \"message_creation\"\n",
      "      },\n",
      "      \"thread_id\": \"thread_BTlAcFIKcvq9TobuJMAHr7u4\",\n",
      "      \"type\": \"message_creation\",\n",
      "      \"usage\": {\n",
      "        \"completion_tokens\": 94,\n",
      "        \"prompt_tokens\": 6932,\n",
      "        \"total_tokens\": 7026\n",
      "      },\n",
      "      \"expires_at\": null\n",
      "    },\n",
      "    {\n",
      "      \"id\": \"step_kpw5CxcJ0DXKyhjcZE4bGAMH\",\n",
      "      \"assistant_id\": \"asst_VULe68D0RjaG5BVyDSQoEwzw\",\n",
      "      \"cancelled_at\": null,\n",
      "      \"completed_at\": 1733414875,\n",
      "      \"created_at\": 1733414873,\n",
      "      \"expired_at\": null,\n",
      "      \"failed_at\": null,\n",
      "      \"last_error\": null,\n",
      "      \"metadata\": null,\n",
      "      \"object\": \"thread.run.step\",\n",
      "      \"run_id\": \"run_x2vFNLmVmRm6S0tRBksKntKQ\",\n",
      "      \"status\": \"completed\",\n",
      "      \"step_details\": {\n",
      "        \"tool_calls\": [\n",
      "          {\n",
      "            \"id\": \"call_cd3jAS7mdN20Azn6f11V1ml7\",\n",
      "            \"code_interpreter\": {\n",
      "              \"input\": \"# Let's reveal more potential columns in the rest of the DataFrame to find relevant attributes\\nsov_app_df.iloc[:10, 50:88]\",\n",
      "              \"outputs\": []\n",
      "            },\n",
      "            \"type\": \"code_interpreter\"\n",
      "          }\n",
      "        ],\n",
      "        \"type\": \"tool_calls\"\n",
      "      },\n",
      "      \"thread_id\": \"thread_BTlAcFIKcvq9TobuJMAHr7u4\",\n",
      "      \"type\": \"tool_calls\",\n",
      "      \"usage\": {\n",
      "        \"completion_tokens\": 37,\n",
      "        \"prompt_tokens\": 0,\n",
      "        \"total_tokens\": 37\n",
      "      },\n",
      "      \"expires_at\": null\n",
      "    },\n",
      "    {\n",
      "      \"id\": \"step_gBOyB6JrmOFnOfVli60DExA9\",\n",
      "      \"assistant_id\": \"asst_VULe68D0RjaG5BVyDSQoEwzw\",\n",
      "      \"cancelled_at\": null,\n",
      "      \"completed_at\": 1733414873,\n",
      "      \"created_at\": 1733414871,\n",
      "      \"expired_at\": null,\n",
      "      \"failed_at\": null,\n",
      "      \"last_error\": null,\n",
      "      \"metadata\": null,\n",
      "      \"object\": \"thread.run.step\",\n",
      "      \"run_id\": \"run_x2vFNLmVmRm6S0tRBksKntKQ\",\n",
      "      \"status\": \"completed\",\n",
      "      \"step_details\": {\n",
      "        \"tool_calls\": [\n",
      "          {\n",
      "            \"id\": \"call_8FoUwPHLUd4hzx93kq4uV4Eg\",\n",
      "            \"code_interpreter\": {\n",
      "              \"input\": \"# It appears \\\"Total Insured Value\\\" and \\\"Occupancy Code\\\" columns do not exist or are named differently.\\n# Let's search the dataframe to find possible matches by inspecting some of the unnamed columns.\\n\\n# Print the first few rows of data to inspect possible column names\\nsov_app_df.iloc[:10, 10:50]\",\n",
      "              \"outputs\": []\n",
      "            },\n",
      "            \"type\": \"code_interpreter\"\n",
      "          }\n",
      "        ],\n",
      "        \"type\": \"tool_calls\"\n",
      "      },\n",
      "      \"thread_id\": \"thread_BTlAcFIKcvq9TobuJMAHr7u4\",\n",
      "      \"type\": \"tool_calls\",\n",
      "      \"usage\": {\n",
      "        \"completion_tokens\": 74,\n",
      "        \"prompt_tokens\": 0,\n",
      "        \"total_tokens\": 74\n",
      "      },\n",
      "      \"expires_at\": null\n",
      "    },\n",
      "    {\n",
      "      \"id\": \"step_HfQSkzBdlTyURCbvYG3A3kun\",\n",
      "      \"assistant_id\": \"asst_VULe68D0RjaG5BVyDSQoEwzw\",\n",
      "      \"cancelled_at\": null,\n",
      "      \"completed_at\": 1733414871,\n",
      "      \"created_at\": 1733414870,\n",
      "      \"expired_at\": null,\n",
      "      \"failed_at\": null,\n",
      "      \"last_error\": null,\n",
      "      \"metadata\": null,\n",
      "      \"object\": \"thread.run.step\",\n",
      "      \"run_id\": \"run_x2vFNLmVmRm6S0tRBksKntKQ\",\n",
      "      \"status\": \"completed\",\n",
      "      \"step_details\": {\n",
      "        \"tool_calls\": [\n",
      "          {\n",
      "            \"id\": \"call_PqeMZtSzXwvJjYJXqC61BtOJ\",\n",
      "            \"code_interpreter\": {\n",
      "              \"input\": \"# Let's check if the relevant columns exist and are named differently\\nsov_app_df.columns\",\n",
      "              \"outputs\": []\n",
      "            },\n",
      "            \"type\": \"code_interpreter\"\n",
      "          }\n",
      "        ],\n",
      "        \"type\": \"tool_calls\"\n",
      "      },\n",
      "      \"thread_id\": \"thread_BTlAcFIKcvq9TobuJMAHr7u4\",\n",
      "      \"type\": \"tool_calls\",\n",
      "      \"usage\": {\n",
      "        \"completion_tokens\": 24,\n",
      "        \"prompt_tokens\": 0,\n",
      "        \"total_tokens\": 24\n",
      "      },\n",
      "      \"expires_at\": null\n",
      "    },\n",
      "    {\n",
      "      \"id\": \"step_FnvwuMWAFfuMQYSBS6qHurcz\",\n",
      "      \"assistant_id\": \"asst_VULe68D0RjaG5BVyDSQoEwzw\",\n",
      "      \"cancelled_at\": null,\n",
      "      \"completed_at\": 1733414870,\n",
      "      \"created_at\": 1733414867,\n",
      "      \"expired_at\": null,\n",
      "      \"failed_at\": null,\n",
      "      \"last_error\": null,\n",
      "      \"metadata\": null,\n",
      "      \"object\": \"thread.run.step\",\n",
      "      \"run_id\": \"run_x2vFNLmVmRm6S0tRBksKntKQ\",\n",
      "      \"status\": \"completed\",\n",
      "      \"step_details\": {\n",
      "        \"tool_calls\": [\n",
      "          {\n",
      "            \"id\": \"call_P7B5DGzE7LspEitdjqDonl4U\",\n",
      "            \"code_interpreter\": {\n",
      "              \"input\": \"# Extract relevant columns and remove duplicates\\ninsured_value_df = sov_app_df[\\n    [\\\"Total Insured Value\\\", \\\"Occupancy Code\\\"]\\n].drop_duplicates()\\n\\ninsured_value_df.head()\",\n",
      "              \"outputs\": []\n",
      "            },\n",
      "            \"type\": \"code_interpreter\"\n",
      "          }\n",
      "        ],\n",
      "        \"type\": \"tool_calls\"\n",
      "      },\n",
      "      \"thread_id\": \"thread_BTlAcFIKcvq9TobuJMAHr7u4\",\n",
      "      \"type\": \"tool_calls\",\n",
      "      \"usage\": {\n",
      "        \"completion_tokens\": 43,\n",
      "        \"prompt_tokens\": 0,\n",
      "        \"total_tokens\": 43\n",
      "      },\n",
      "      \"expires_at\": null\n",
      "    }\n",
      "  ],\n",
      "  \"object\": \"list\",\n",
      "  \"first_id\": \"step_oL0cRxAsiXJMMlVfSBJLv9D0\",\n",
      "  \"last_id\": \"step_FnvwuMWAFfuMQYSBS6qHurcz\",\n",
      "  \"has_more\": false\n",
      "}\n"
     ]
    }
   ],
   "source": [
    "run_steps = client.beta.threads.runs.steps.list(\n",
    "  thread_id=thread.id,\n",
    "  run_id=run.id\n",
    ")\n",
    "print(run_steps.model_dump_json(indent=2))"
   ]
  },
  {
   "cell_type": "markdown",
   "metadata": {},
   "source": [
    "Delete the assistant and thread once the extraction is completed"
   ]
  },
  {
   "cell_type": "code",
   "execution_count": 18,
   "metadata": {},
   "outputs": [],
   "source": [
    "if should_cleanup:\n",
    "    client.beta.assistants.delete(assistant.id)\n",
    "    client.beta.threads.delete(thread.id)\n",
    "    client.beta.vector_stores.delete(vector_store.id)"
   ]
  }
 ],
 "metadata": {
  "colab": {
   "provenance": []
  },
  "kernel_info": {
   "name": "python3"
  },
  "kernelspec": {
   "display_name": "Python 3",
   "language": "python",
   "name": "python3"
  },
  "language_info": {
   "codemirror_mode": {
    "name": "ipython",
    "version": 3
   },
   "file_extension": ".py",
   "mimetype": "text/x-python",
   "name": "python",
   "nbconvert_exporter": "python",
   "pygments_lexer": "ipython3",
   "version": "3.11.9"
  },
  "microsoft": {
   "host": {
    "AzureML": {
     "notebookHasBeenCompleted": true
    }
   },
   "ms_spell_check": {
    "ms_spell_check_language": "en"
   }
  },
  "nteract": {
   "version": "nteract-front-end@1.0.0"
  }
 },
 "nbformat": 4,
 "nbformat_minor": 0
}
